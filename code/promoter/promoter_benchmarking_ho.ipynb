{
 "cells": [
  {
   "cell_type": "markdown",
   "metadata": {},
   "source": [
    "# Importing necessary libraries"
   ]
  },
  {
   "cell_type": "code",
   "execution_count": 2,
   "metadata": {
    "ExecuteTime": {
     "end_time": "2025-03-27T11:36:29.644509Z",
     "start_time": "2025-03-27T11:36:29.641299Z"
    }
   },
   "outputs": [
    {
     "name": "stderr",
     "output_type": "stream",
     "text": [
      "/home/yshen/miniconda3/envs/AL/lib/python3.7/site-packages/sklearn/externals/joblib/externals/cloudpickle/cloudpickle.py:47: DeprecationWarning: the imp module is deprecated in favour of importlib; see the module's documentation for alternative uses\n",
      "  import imp\n",
      "/home/yshen/miniconda3/envs/AL/lib/python3.7/site-packages/sklearn/utils/validation.py:37: DeprecationWarning: distutils Version classes are deprecated. Use packaging.version instead.\n",
      "  LARGE_SPARSE_SUPPORTED = LooseVersion(scipy_version) >= '0.14.0'\n"
     ]
    }
   ],
   "source": [
    "import warnings\n",
    "\n",
    "from sklearn.exceptions import ConvergenceWarning\n",
    "warnings.filterwarnings(action='ignore', category=ConvergenceWarning)\n",
    "warnings.filterwarnings(\"ignore\", category=DeprecationWarning)\n",
    "\n",
    "import numpy as np\n",
    "import matplotlib.pyplot as plt\n",
    "import seaborn as sns\n",
    "import pandas as pd \n",
    "\n",
    "import sklearn\n",
    "\n",
    "from sklearn import linear_model\n",
    "from sklearn import decomposition\n",
    "from sklearn.neural_network import MLPRegressor\n",
    "from sklearn.model_selection import GridSearchCV\n",
    "from sklearn.model_selection import cross_val_score\n",
    "from sklearn.preprocessing import OneHotEncoder\n",
    "from smt.sampling_methods import LHS\n",
    "\n",
    "import time\n",
    "import datetime\n",
    "import random\n",
    "import csv\n",
    "import os\n",
    "import copy\n",
    "import json\n",
    "from tqdm import tqdm\n",
    "\n"
   ]
  },
  {
   "cell_type": "code",
   "execution_count": 3,
   "metadata": {
    "ExecuteTime": {
     "end_time": "2025-03-27T11:36:29.749164Z",
     "start_time": "2025-03-27T11:36:29.645609Z"
    }
   },
   "outputs": [
    {
     "name": "stderr",
     "output_type": "stream",
     "text": [
      "/home/yshen/miniconda3/envs/AL/lib/python3.7/site-packages/tensorflow/python/framework/dtypes.py:516: FutureWarning: Passing (type, 1) or '1type' as a synonym of type is deprecated; in a future version of numpy, it will be understood as (type, (1,)) / '(1,)type'.\n",
      "  _np_qint8 = np.dtype([(\"qint8\", np.int8, 1)])\n",
      "/home/yshen/miniconda3/envs/AL/lib/python3.7/site-packages/tensorflow/python/framework/dtypes.py:517: FutureWarning: Passing (type, 1) or '1type' as a synonym of type is deprecated; in a future version of numpy, it will be understood as (type, (1,)) / '(1,)type'.\n",
      "  _np_quint8 = np.dtype([(\"quint8\", np.uint8, 1)])\n",
      "/home/yshen/miniconda3/envs/AL/lib/python3.7/site-packages/tensorflow/python/framework/dtypes.py:518: FutureWarning: Passing (type, 1) or '1type' as a synonym of type is deprecated; in a future version of numpy, it will be understood as (type, (1,)) / '(1,)type'.\n",
      "  _np_qint16 = np.dtype([(\"qint16\", np.int16, 1)])\n",
      "/home/yshen/miniconda3/envs/AL/lib/python3.7/site-packages/tensorflow/python/framework/dtypes.py:519: FutureWarning: Passing (type, 1) or '1type' as a synonym of type is deprecated; in a future version of numpy, it will be understood as (type, (1,)) / '(1,)type'.\n",
      "  _np_quint16 = np.dtype([(\"quint16\", np.uint16, 1)])\n",
      "/home/yshen/miniconda3/envs/AL/lib/python3.7/site-packages/tensorflow/python/framework/dtypes.py:520: FutureWarning: Passing (type, 1) or '1type' as a synonym of type is deprecated; in a future version of numpy, it will be understood as (type, (1,)) / '(1,)type'.\n",
      "  _np_qint32 = np.dtype([(\"qint32\", np.int32, 1)])\n",
      "/home/yshen/miniconda3/envs/AL/lib/python3.7/site-packages/tensorflow/python/framework/dtypes.py:525: FutureWarning: Passing (type, 1) or '1type' as a synonym of type is deprecated; in a future version of numpy, it will be understood as (type, (1,)) / '(1,)type'.\n",
      "  np_resource = np.dtype([(\"resource\", np.ubyte, 1)])\n"
     ]
    },
    {
     "name": "stdout",
     "output_type": "stream",
     "text": [
      "WARNING:tensorflow:From /home/yshen/evolution/AL/Ura_model.py:28: The name tf.keras.layers.CuDNNLSTM is deprecated. Please use tf.compat.v1.keras.layers.CuDNNLSTM instead.\n",
      "\n"
     ]
    },
    {
     "name": "stderr",
     "output_type": "stream",
     "text": [
      "/home/yshen/miniconda3/envs/AL/lib/python3.7/site-packages/tensorboard/compat/tensorflow_stub/dtypes.py:541: FutureWarning: Passing (type, 1) or '1type' as a synonym of type is deprecated; in a future version of numpy, it will be understood as (type, (1,)) / '(1,)type'.\n",
      "  _np_qint8 = np.dtype([(\"qint8\", np.int8, 1)])\n",
      "/home/yshen/miniconda3/envs/AL/lib/python3.7/site-packages/tensorboard/compat/tensorflow_stub/dtypes.py:542: FutureWarning: Passing (type, 1) or '1type' as a synonym of type is deprecated; in a future version of numpy, it will be understood as (type, (1,)) / '(1,)type'.\n",
      "  _np_quint8 = np.dtype([(\"quint8\", np.uint8, 1)])\n",
      "/home/yshen/miniconda3/envs/AL/lib/python3.7/site-packages/tensorboard/compat/tensorflow_stub/dtypes.py:543: FutureWarning: Passing (type, 1) or '1type' as a synonym of type is deprecated; in a future version of numpy, it will be understood as (type, (1,)) / '(1,)type'.\n",
      "  _np_qint16 = np.dtype([(\"qint16\", np.int16, 1)])\n",
      "/home/yshen/miniconda3/envs/AL/lib/python3.7/site-packages/tensorboard/compat/tensorflow_stub/dtypes.py:544: FutureWarning: Passing (type, 1) or '1type' as a synonym of type is deprecated; in a future version of numpy, it will be understood as (type, (1,)) / '(1,)type'.\n",
      "  _np_quint16 = np.dtype([(\"quint16\", np.uint16, 1)])\n",
      "/home/yshen/miniconda3/envs/AL/lib/python3.7/site-packages/tensorboard/compat/tensorflow_stub/dtypes.py:545: FutureWarning: Passing (type, 1) or '1type' as a synonym of type is deprecated; in a future version of numpy, it will be understood as (type, (1,)) / '(1,)type'.\n",
      "  _np_qint32 = np.dtype([(\"qint32\", np.int32, 1)])\n",
      "/home/yshen/miniconda3/envs/AL/lib/python3.7/site-packages/tensorboard/compat/tensorflow_stub/dtypes.py:550: FutureWarning: Passing (type, 1) or '1type' as a synonym of type is deprecated; in a future version of numpy, it will be understood as (type, (1,)) / '(1,)type'.\n",
      "  np_resource = np.dtype([(\"resource\", np.ubyte, 1)])\n",
      "2025-03-30 15:32:01.802501: I tensorflow/core/platform/cpu_feature_guard.cc:142] Your CPU supports instructions that this TensorFlow binary was not compiled to use: AVX2 FMA\n",
      "2025-03-30 15:32:01.806289: I tensorflow/core/platform/profile_utils/cpu_utils.cc:94] CPU Frequency: 3393350000 Hz\n",
      "2025-03-30 15:32:01.807710: I tensorflow/compiler/xla/service/service.cc:168] XLA service 0x5a4c6f0 executing computations on platform Host. Devices:\n",
      "2025-03-30 15:32:01.807722: I tensorflow/compiler/xla/service/service.cc:175]   StreamExecutor device (0): <undefined>, <undefined>\n"
     ]
    },
    {
     "name": "stdout",
     "output_type": "stream",
     "text": [
      "WARNING:tensorflow:From /home/yshen/miniconda3/envs/AL/lib/python3.7/site-packages/tensorflow/python/ops/init_ops.py:1288: calling VarianceScaling.__init__ (from tensorflow.python.ops.init_ops) with dtype is deprecated and will be removed in a future version.\n",
      "Instructions for updating:\n",
      "Call initializer instance with the dtype argument instead of passing it to the constructor\n",
      "WARNING:tensorflow:From /home/yshen/miniconda3/envs/AL/lib/python3.7/site-packages/tensorflow/python/ops/init_ops.py:97: calling Orthogonal.__init__ (from tensorflow.python.ops.init_ops) with dtype is deprecated and will be removed in a future version.\n",
      "Instructions for updating:\n",
      "Call initializer instance with the dtype argument instead of passing it to the constructor\n",
      "WARNING:tensorflow:From /home/yshen/miniconda3/envs/AL/lib/python3.7/site-packages/tensorflow/python/ops/init_ops.py:97: calling Zeros.__init__ (from tensorflow.python.ops.init_ops) with dtype is deprecated and will be removed in a future version.\n",
      "Instructions for updating:\n",
      "Call initializer instance with the dtype argument instead of passing it to the constructor\n",
      "WARNING:tensorflow:From /home/yshen/evolution/AL/Ura_model.py:184: The name tf.train.RMSPropOptimizer is deprecated. Please use tf.compat.v1.train.RMSPropOptimizer instead.\n",
      "\n",
      "WARNING:tensorflow:From /home/yshen/evolution/AL/Ura_model.py:771: The name tf.keras.backend.get_session is deprecated. Please use tf.compat.v1.keras.backend.get_session instead.\n",
      "\n",
      "WARNING:tensorflow:From /home/yshen/evolution/AL/Ura_model.py:889: The name tf.keras.backend.set_session is deprecated. Please use tf.compat.v1.keras.backend.set_session instead.\n",
      "\n"
     ]
    },
    {
     "name": "stderr",
     "output_type": "stream",
     "text": [
      "2025-03-30 15:32:03.427193: W tensorflow/compiler/jit/mark_for_compilation_pass.cc:1412] (One-time warning): Not using XLA:CPU for cluster because envvar TF_XLA_FLAGS=--tf_xla_cpu_global_jit was not set.  If you want XLA:CPU, either set that envvar, or use experimental_jit_scope to enable XLA:CPU.  To confirm that XLA is active, pass --vmodule=xla_compilation_cache=1 (as a proper command-line flag, not via TF_XLA_FLAGS) or set the envvar XLA_FLAGS=--xla_hlo_profile.\n"
     ]
    }
   ],
   "source": [
    "import tensorflow as tf\n",
    "from Ura_model import *\n",
    "from Glu_model import *"
   ]
  },
  {
   "cell_type": "code",
   "execution_count": 4,
   "metadata": {
    "ExecuteTime": {
     "end_time": "2025-03-27T11:36:35.820762Z",
     "start_time": "2025-03-27T11:36:34.103569Z"
    }
   },
   "outputs": [
    {
     "name": "stdout",
     "output_type": "stream",
     "text": [
      "start test!\n",
      "1024/1024 [==============================] - 1s 1ms/sample\n",
      "[6.85928912 4.10611823]\n"
     ]
    }
   ],
   "source": [
    "#test whether the model is implemented\n",
    "sequence=[\"GCACTATGCGAATAGTTTTATAAGTTGTTAGCGTCGATGTCTTTCATTAAGTAGTGACGGGAGAAAAAGAGAAACTGTGA\",\"GAGGCCACTGTAAATAATGGTCAGAAGTGTTGTTATGACACTTTGCAAGGGTGTCTCCCAGTGTAGCGCCTCTCGCCCTA\"]\n",
    "result=Ura_surrogate(sequence)\n",
    "print(result)"
   ]
  },
  {
   "cell_type": "code",
   "execution_count": 6,
   "metadata": {},
   "outputs": [],
   "source": [
    "def noisy_surrogate(sequence):\n",
    "    result=Ura_surrogate(sequence)\n",
    "    for i in range(len(result)):\n",
    "        result[i]= np.random.normal(result[i],result[i]*0.05, 1)[0]\n",
    "    return result\n",
    "\n",
    "def very_noisy_surrogate(sequence):\n",
    "    result=Ura_surrogate(sequence)\n",
    "    for i in range(len(result)):\n",
    "        result[i]= np.random.normal(result[i],result[i]*0.10, 1)[0]\n",
    "    return result\n"
   ]
  },
  {
   "cell_type": "markdown",
   "metadata": {},
   "source": [
    "# Utility functions"
   ]
  },
  {
   "cell_type": "code",
   "execution_count": 7,
   "metadata": {
    "ExecuteTime": {
     "end_time": "2025-03-27T11:36:41.737216Z",
     "start_time": "2025-03-27T11:36:41.731649Z"
    }
   },
   "outputs": [],
   "source": [
    "def random_sampling(num):\n",
    "    x = np.random.random_sample((num,80))\n",
    "    sequence_list=[]\n",
    "    for i in range(num):\n",
    "        oh=\"\"\n",
    "        for j in range(80):\n",
    "            if x[i][j]<0.25:\n",
    "                oh=oh+\"A\"\n",
    "            elif x[i][j]<0.5:\n",
    "                oh=oh+\"C\"\n",
    "            elif x[i][j]<0.75:\n",
    "                oh=oh+\"G\"\n",
    "            elif x[i][j]<1:\n",
    "                oh=oh+\"T\"             \n",
    "        sequence_list.append(oh)\n",
    "    return sequence_list"
   ]
  },
  {
   "cell_type": "code",
   "execution_count": 5,
   "metadata": {
    "ExecuteTime": {
     "end_time": "2025-03-27T11:36:42.014808Z",
     "start_time": "2025-03-27T11:36:41.899311Z"
    }
   },
   "outputs": [],
   "source": [
    "import numpy as np\n",
    "\n",
    "def convert_input_type(seq, target_type):\n",
    "    \"\"\"\n",
    "    Convert DNA sequence between string and one-hot encoded representations.\n",
    "\n",
    "    Args:\n",
    "        seq: The input DNA sequence(s).\n",
    "        target_type: The target representation type (\"one_hot\" or \"strings\").\n",
    "\n",
    "    Returns:\n",
    "        The converted DNA sequence(s).\n",
    "    \"\"\"\n",
    "    if target_type == \"one_hot\":\n",
    "        # Convert string to one-hot encoded numpy array\n",
    "        mapping = {'A': [1, 0, 0, 0], 'C': [0, 1, 0, 0], 'G': [0, 0, 1, 0], 'T': [0, 0, 0, 1]}\n",
    "        one_hot = np.array([mapping[base] for base in seq])\n",
    "        return one_hot\n",
    "    elif target_type == \"strings\":\n",
    "        # Convert one-hot encoded numpy array to string\n",
    "        mapping = {0: 'A', 1: 'C', 2: 'G', 3: 'T'}\n",
    "        strings = ''.join([mapping[np.argmax(base)] for base in seq])\n",
    "        return strings\n",
    "    else:\n",
    "        raise ValueError(\"Unsupported target_type. Use 'one_hot' or 'strings'.\")"
   ]
  },
  {
   "cell_type": "code",
   "execution_count": null,
   "metadata": {
    "ExecuteTime": {
     "end_time": "2025-03-27T11:36:42.906705Z",
     "start_time": "2025-03-27T11:36:42.890144Z"
    }
   },
   "outputs": [],
   "source": [
    "# Gradient Descent\n",
    "\n",
    "import numpy as np\n",
    "\n",
    "from typing import Optional, Callable, List\n",
    "\n",
    "def convert_input_type(seq, target_type):\n",
    "    mapping = {'A': [1, 0, 0, 0], 'C': [0, 1, 0, 0], 'G': [0, 0, 1, 0], 'T': [0, 0, 0, 1]}\n",
    "    if target_type == \"one_hot\":\n",
    "        one_hot = np.array([mapping[base] for base in seq]).flatten()\n",
    "        return one_hot\n",
    "    elif target_type == \"strings\":\n",
    "        reverse_mapping = {tuple(v): k for k, v in mapping.items()}\n",
    "        reshaped_seq = seq.reshape(-1, 4)\n",
    "        strings = ''.join([reverse_mapping[tuple(base)] for base in reshaped_seq])\n",
    "        return strings\n",
    "    else:\n",
    "        raise ValueError(\"Unsupported target_type. Use 'one_hot' or 'strings'.\")\n",
    "\n",
    "def softmax(x):\n",
    "    e_x = np.exp(x - np.max(x))\n",
    "    return e_x / e_x.sum(axis=-1, keepdims=True)\n",
    "\n",
    "def closest_one_hot(x):\n",
    "    one_hot = np.zeros_like(x)\n",
    "    one_hot[np.argmax(x)] = 1\n",
    "    return one_hot\n",
    "\n",
    "def gradient_descent_optimization(\n",
    "    seq: str,\n",
    "    model: MLPRegressor,\n",
    "    loss_func: Callable,\n",
    "    learning_rate: float = 0.1,\n",
    "    max_iter: int = 100,\n",
    "    positions: Optional[List[int]] = None,\n",
    "    grad_clip: float = 1.0,\n",
    "):\n",
    "    \"\"\"\n",
    "    Sequence design using gradient descent optimization with MLPRegressor\n",
    "\n",
    "    Args:\n",
    "        seq: an initial DNA sequence as a string.\n",
    "        model: A trained MLPRegressor object\n",
    "        loss_func: A function to compute the loss\n",
    "        learning_rate: Learning rate for gradient descent\n",
    "        max_iter: Number of iterations\n",
    "        positions: Positions to mutate. If None, all positions will be mutated\n",
    "        grad_clip: Gradient clipping value\n",
    "\n",
    "    Returns:\n",
    "        Optimized DNA sequence as a string and its prediction value.\n",
    "    \"\"\"\n",
    "    # Convert sequence into a one-hot encoded tensor\n",
    "    X = convert_input_type(seq, \"one_hot\").reshape(1, -1).astype(float)\n",
    "    print(f\"Initial shape of X: {X.shape}\")\n",
    "\n",
    "    best_X = X.copy()\n",
    "    best_y = model.predict(X)\n",
    "    best_loss = loss_func(best_y)\n",
    "    print(f\"Initial loss: {best_loss}\")\n",
    "\n",
    "    # Gradient descent optimization\n",
    "    for i in range(max_iter):\n",
    "        # Forward pass\n",
    "        y_pred = model.predict(X)\n",
    "        \n",
    "        # Compute loss\n",
    "        loss = loss_func(y_pred)\n",
    "        \n",
    "        # Update best sequence if current loss is better\n",
    "        if loss < best_loss:\n",
    "            best_loss = loss\n",
    "            best_X = X.copy()\n",
    "            best_y = y_pred\n",
    "        \n",
    "        # Compute gradient (using numerical approximation)\n",
    "        grad = np.zeros_like(X)\n",
    "        epsilon = 1e-5\n",
    "        for j in range(X.shape[1]):\n",
    "            X_plus = X.copy()\n",
    "            X_plus[0, j] += epsilon\n",
    "            y_pred_plus = model.predict(X_plus)\n",
    "            loss_plus = loss_func(y_pred_plus)\n",
    "            grad[0, j] = (loss_plus - loss) / epsilon\n",
    "        \n",
    "        # Clip gradients\n",
    "        grad = np.clip(grad, -grad_clip, grad_clip)\n",
    "        \n",
    "        # Update X using gradient descent\n",
    "        X -= learning_rate * grad\n",
    "        \n",
    "        # Apply softmax normalization to each 4-element segment\n",
    "        if np.mean(X)>2:\n",
    "            for k in range(0, X.shape[1], 4):\n",
    "                X[0, k:k+4] = softmax(X[0, k:k+4])\n",
    "        \n",
    "        # Print best sequence and prediction every 2 iterations\n",
    "        if i % 2 == 0:\n",
    "            # Convert best_X to closest one-hot vectors\n",
    "            best_X_closest = best_X.copy()\n",
    "            for k in range(0, best_X_closest.shape[1], 4):\n",
    "                best_X_closest[0, k:k+4] = closest_one_hot(best_X_closest[0, k:k+4])\n",
    "            best_seq = convert_input_type(best_X_closest.reshape(-1, 4), \"strings\")\n",
    "            best_y_pred = model.predict(best_X_closest)  # Get the prediction of the best_X_closest\n",
    "            # print(f\"Iteration {i}, Best sequence: {best_seq}, Best prediction value: {best_y_pred}\")\n",
    "\n",
    "    # Convert best one-hot encoded array back to closest one-hot vectors\n",
    "    for k in range(0, best_X.shape[1], 4):\n",
    "        best_X[0, k:k+4] = closest_one_hot(best_X[0, k:k+4])\n",
    "    \n",
    "    best_y_pred = model.predict(best_X)  # Get the prediction of the best_X_closest\n",
    "    print(f\"Final loss: {best_y_pred}\")\n",
    "\n",
    "\n",
    "    # Convert optimized one-hot encoded array back to DNA sequence\n",
    "    optimized_seq = convert_input_type(best_X.reshape(-1, 4), \"strings\")\n",
    "    return optimized_seq, best_y_pred\n",
    "\n"
   ]
  },
  {
   "cell_type": "code",
   "execution_count": null,
   "metadata": {
    "ExecuteTime": {
     "end_time": "2025-03-27T11:36:43.406854Z",
     "start_time": "2025-03-27T11:36:43.397537Z"
    }
   },
   "outputs": [],
   "source": [
    "# SSWM\n",
    "import numpy as np\n",
    "from sklearn.neural_network import MLPRegressor\n",
    "from typing import Callable, List\n",
    "import random\n",
    "\n",
    "def convert_input_type(seq, target_type):\n",
    "    mapping = {'A': [1, 0, 0, 0], 'C': [0, 1, 0, 0], 'G': [0, 0, 1, 0], 'T': [0, 0, 0, 1]}\n",
    "    if target_type == \"one_hot\":\n",
    "        one_hot = np.array([mapping[base] for base in seq]).flatten()\n",
    "        return one_hot\n",
    "    elif target_type == \"strings\":\n",
    "        reverse_mapping = {tuple(v): k for k, v in mapping.items()}\n",
    "        reshaped_seq = seq.reshape(-1, 4)\n",
    "        strings = ''.join([reverse_mapping[tuple(base)] for base in reshaped_seq])\n",
    "        return strings\n",
    "    else:\n",
    "        raise ValueError(\"Unsupported target_type. Use 'one_hot' or 'strings'.\")\n",
    "\n",
    "def mutate_sequence(seq: str, mutation_rate: float = 0.1) -> str:\n",
    "    bases = ['A', 'C', 'G', 'T']\n",
    "    mutated_seq = list(seq)\n",
    "    for i in range(len(seq)):\n",
    "        if random.random() < mutation_rate:\n",
    "            mutated_seq[i] = random.choice(bases)\n",
    "    return ''.join(mutated_seq)\n",
    "\n",
    "def SSWM_optimization(\n",
    "    seq: str,\n",
    "    model: MLPRegressor,\n",
    "    loss_func: Callable,\n",
    "    population_size: int = 10,\n",
    "    generations: int = 100,\n",
    "    mutation_rate: float = 0.1,\n",
    "):\n",
    "    \"\"\"\n",
    "    Sequence design using SSWM with MLPRegressor\n",
    "\n",
    "    Args:\n",
    "        seq: an initial DNA sequence as a string.\n",
    "        model: A trained MLPRegressor object\n",
    "        loss_func: A function to compute the loss\n",
    "        population_size: Number of sequences in the population\n",
    "        generations: Number of generations to evolve\n",
    "        mutation_rate: Probability of mutating each base in the sequence\n",
    "\n",
    "    Returns:\n",
    "        Optimized DNA sequence as a string and its prediction value.\n",
    "    \"\"\"\n",
    "    # Initialize population with the initial sequence\n",
    "    population = [seq] * population_size\n",
    "    best_seq = seq\n",
    "    best_y = model.predict(convert_input_type(seq, \"one_hot\").reshape(1, -1))\n",
    "    best_loss = loss_func(best_y)\n",
    "    print(f\"Initial sequence: {seq}, Initial loss: {best_loss}\")\n",
    "\n",
    "    for generation in range(generations):\n",
    "        # Mutate population\n",
    "        new_population = [mutate_sequence(seq, mutation_rate) for seq in population]\n",
    "        \n",
    "        # Evaluate fitness of the new population\n",
    "        fitness_scores = []\n",
    "        for new_seq in new_population:\n",
    "            X = convert_input_type(new_seq, \"one_hot\").reshape(1, -1).astype(float)\n",
    "            y_pred = model.predict(X)\n",
    "            loss = loss_func(y_pred)\n",
    "            fitness_scores.append((new_seq, y_pred, loss))\n",
    "        \n",
    "        # Select the best sequence in the current generation\n",
    "        fitness_scores.sort(key=lambda x: x[2])  # Sort by loss (ascending)\n",
    "        current_best_seq, current_best_y, current_best_loss = fitness_scores[0]\n",
    "        \n",
    "        # Update global best sequence if current best is better\n",
    "        if current_best_loss < best_loss:\n",
    "            best_seq = current_best_seq\n",
    "            best_y = current_best_y\n",
    "            best_loss = current_best_loss\n",
    "        \n",
    "        # Update population with the top sequences\n",
    "        population = [seq for seq, _, _ in fitness_scores[:population_size]]\n",
    "        \n",
    "        print(f\"Generation {generation}, Best sequence: {best_seq}, Best prediction value: {best_y}, Best loss: {best_loss}\")\n",
    "\n",
    "    return best_seq, best_y\n"
   ]
  },
  {
   "cell_type": "markdown",
   "metadata": {},
   "source": [
    "# Get optimal sequences"
   ]
  },
  {
   "cell_type": "code",
   "execution_count": null,
   "metadata": {
    "ExecuteTime": {
     "end_time": "2025-03-27T11:36:44.963521Z",
     "start_time": "2025-03-27T11:36:44.951368Z"
    }
   },
   "outputs": [],
   "source": [
    "import pandas as pd\n",
    "import numpy as np\n",
    "\n",
    "class PromoterModel:\n",
    "    def __init__(self):\n",
    "        self.model = None\n",
    "\n",
    "    def get_sampling(self, n_samples):\n",
    "        \n",
    "        sample_X = initial_sampling[:n_samples]\n",
    "        return sample_X\n",
    "\n",
    "    def build_model(self, sample_X):\n",
    "        onehot_X = [convert_input_type(i, \"one_hot\") for i in sample_X]\n",
    "        y = Ura_surrogate(sample_X)\n",
    "        \n",
    "        # Define the parameter grid\n",
    "        param_grid = {\n",
    "            'hidden_layer_sizes': [\n",
    "                (10,),\n",
    "                (40, 10),\n",
    "                (100, 100, 20),\n",
    "                (10, 100, 100, 20)\n",
    "            ]\n",
    "        }\n",
    "        \n",
    "        # Initialize the MLPRegressor\n",
    "        mlp = MLPRegressor(max_iter=1000, random_state=0)\n",
    "        \n",
    "        # Use GridSearchCV to perform 5-fold cross-validation\n",
    "        grid_search = GridSearchCV(estimator=mlp, param_grid=param_grid, cv=5, scoring='r2')\n",
    "        \n",
    "        # Fit the model\n",
    "        grid_search.fit(onehot_X, y)\n",
    "        \n",
    "        # Select the best model\n",
    "        self.model = grid_search.best_estimator_\n",
    "\n",
    "    def loss_func(self, y_pred):\n",
    "        return -np.mean(y_pred)\n",
    "\n",
    "    def get_model(self, n_samples):\n",
    "        samples = self.get_sampling(n_samples)\n",
    "        self.build_model(samples)\n",
    "        return self.model\n",
    "\n",
    "    def random_screening(self, sample_for_model=1000, n_screens=100000):\n",
    "        model = self.get_model(sample_for_model)\n",
    "        sequences = random_sampling(n_screens)\n",
    "        evaluations = [(seq, model.predict(convert_input_type(seq, \"one_hot\").reshape(1, -1))) for seq in sequences]\n",
    "        sorted_evaluations = sorted(evaluations, key=lambda x: x[1], reverse=True)\n",
    "\n",
    "        top_100_sequences = sorted_evaluations[:100]\n",
    "        top_sequences = [seq for seq, score in top_100_sequences]\n",
    "        top_scores = [score[0] for seq, score in top_100_sequences]\n",
    "        return top_sequences, top_scores\n",
    "\n",
    "    def get_best_batch(self, sample_for_model=1000, batch_size=1000, method=\"gradient\"):\n",
    "        batch = []\n",
    "        model = self.get_model(sample_for_model)\n",
    "        j = 0\n",
    "        while j < batch_size:\n",
    "            print(\"time:\" + time.time())\n",
    "            seq = random_sampling(1)[0]\n",
    "            if method == \"gradient\":\n",
    "                optimized_seq, best_y_pred = gradient_descent_optimization(seq, model, self.loss_func)\n",
    "            elif method == \"SSWM\":\n",
    "                optimized_seq, best_y_pred = SSWM_optimization(seq, model, self.loss_func)\n",
    "            if optimized_seq not in [item[0] for item in batch]:\n",
    "                batch.append((optimized_seq, best_y_pred))\n",
    "            j = j+1\n",
    "        sequences = [item[0] for item in batch]\n",
    "        expression_levels = np.array([item[1][0] for item in batch])\n",
    "        return sequences, expression_levels\n",
    "    "
   ]
  },
  {
   "cell_type": "code",
   "execution_count": null,
   "metadata": {
    "ExecuteTime": {
     "start_time": "2025-02-28T12:03:11.355Z"
    }
   },
   "outputs": [
    {
     "name": "stderr",
     "output_type": "stream",
     "text": [
      "\r\n",
      "  0%|                                                     | 0/4 [00:00<?, ?it/s]"
     ]
    },
    {
     "name": "stdout",
     "output_type": "stream",
     "text": [
      "start test!\n",
      "1024/1024 [==============================] - 1s 1ms/sample\n",
      "start test!\n",
      "1024/1024 [==============================] - 1s 1ms/sample\n"
     ]
    },
    {
     "name": "stderr",
     "output_type": "stream",
     "text": [
      "\r\n",
      " 25%|███████████▎                                 | 1/4 [01:09<03:27, 69.29s/it]"
     ]
    },
    {
     "name": "stdout",
     "output_type": "stream",
     "text": [
      "12.843767058079074\n",
      "start test!\n",
      "2048/2048 [==============================] - 2s 1ms/sample\n",
      "start test!\n",
      "1024/1024 [==============================] - 1s 1ms/sample\n"
     ]
    },
    {
     "name": "stderr",
     "output_type": "stream",
     "text": [
      "\r\n",
      " 50%|██████████████████████▌                      | 2/4 [02:47<02:52, 86.30s/it]"
     ]
    },
    {
     "name": "stdout",
     "output_type": "stream",
     "text": [
      "13.052852579833493\n",
      "start test!\n",
      "3072/3072 [==============================] - 4s 1ms/sample\n",
      "start test!\n",
      "1024/1024 [==============================] - 1s 1ms/sample\n"
     ]
    },
    {
     "name": "stderr",
     "output_type": "stream",
     "text": [
      "\r\n",
      " 75%|█████████████████████████████████           | 3/4 [04:56<01:45, 105.80s/it]"
     ]
    },
    {
     "name": "stdout",
     "output_type": "stream",
     "text": [
      "13.256077980469621\n",
      "start test!\n",
      "4096/4096 [==============================] - 5s 1ms/sample\n",
      "start test!\n",
      "1024/1024 [==============================] - 1s 1ms/sample\n"
     ]
    },
    {
     "name": "stderr",
     "output_type": "stream",
     "text": [
      "100%|████████████████████████████████████████████| 4/4 [07:35<00:00, 113.79s/it]\n",
      "  0%|                                                     | 0/4 [00:00<?, ?it/s]"
     ]
    },
    {
     "name": "stdout",
     "output_type": "stream",
     "text": [
      "12.951588988201715\n",
      "start test!\n",
      "1024/1024 [==============================] - 1s 1ms/sample\n",
      "start test!\n",
      "1024/1024 [==============================] - 1s 1ms/sample\n"
     ]
    },
    {
     "name": "stderr",
     "output_type": "stream",
     "text": [
      "\r\n",
      " 25%|███████████▎                                 | 1/4 [01:01<03:03, 61.19s/it]"
     ]
    },
    {
     "name": "stdout",
     "output_type": "stream",
     "text": [
      "12.887186529794382\n",
      "start test!\n",
      "2048/2048 [==============================] - 2s 1ms/sample\n"
     ]
    }
   ],
   "source": [
    "conditions=[\"latin_uniform\",\"rd1_uniform\",\"rd2_uniform\",\"latin_low\",\"rd1_low\",\"rd2_low\"]\n",
    "for condition in conditions:\n",
    "    with open('initial_condition/initial_'+condition+'_4000.txt', 'r') as f:\n",
    "        initial_sampling=json.load(f)\n",
    "    sample_size = [1000, 2000, 3000, 4000]\n",
    "    promoter_model = PromoterModel()\n",
    "    dataframe_sequences = pd.DataFrame()\n",
    "    # Loop through sample sizes and collect data\n",
    "    for i in tqdm(sample_size):\n",
    "        sequences, expression_levels = promoter_model.random_screening(sample_for_model=i, n_screens=100000)\n",
    "        real_expression_levels = Ura_surrogate(sequences)\n",
    "        dataframe_sequences[\"sequence\"+str(i)] = sequences\n",
    "        dataframe_sequences[\"evaluation\"+str(i)] = expression_levels\n",
    "        dataframe_sequences[\"real\"+str(i)] = real_expression_levels\n",
    "        print(np.mean(real_expression_levels))\n",
    "\n",
    "    dataframe_sequences.to_csv('promoter_rd_'+condition+'.csv', index=False)"
   ]
  },
  {
   "cell_type": "code",
   "execution_count": null,
   "metadata": {
    "ExecuteTime": {
     "start_time": "2025-03-27T11:36:55.244Z"
    }
   },
   "outputs": [
    {
     "name": "stderr",
     "output_type": "stream",
     "text": [
      "  0%|          | 0/4 [00:00<?, ?it/s]"
     ]
    },
    {
     "name": "stdout",
     "output_type": "stream",
     "text": [
      "1000\n",
      "start test!\n",
      "1024/1024 [==============================] - 1s 956us/sample\n",
      "1743345337.8118794\n",
      "Initial shape of X: (1, 320)\n",
      "Initial loss: -6.996059561223027\n",
      "Final loss: [44.56377061]\n",
      "1743345341.7536514\n",
      "Initial shape of X: (1, 320)\n",
      "Initial loss: -10.132171304281496\n",
      "Final loss: [49.97080178]\n",
      "1743345345.6862648\n",
      "Initial shape of X: (1, 320)\n",
      "Initial loss: -3.9355223761674276\n",
      "Final loss: [46.70061083]\n",
      "1743345349.6220384\n",
      "Initial shape of X: (1, 320)\n",
      "Initial loss: -11.118681729171733\n",
      "Final loss: [45.68057614]\n",
      "1743345353.557728\n",
      "Initial shape of X: (1, 320)\n",
      "Initial loss: -5.843245143392638\n",
      "Final loss: [49.5753328]\n",
      "1743345357.4903796\n",
      "Initial shape of X: (1, 320)\n",
      "Initial loss: -6.848691088728516\n",
      "Final loss: [48.43006288]\n",
      "1743345361.4281764\n",
      "Initial shape of X: (1, 320)\n",
      "Initial loss: -7.294911538780324\n",
      "Final loss: [46.26932706]\n",
      "1743345365.368549\n",
      "Initial shape of X: (1, 320)\n",
      "Initial loss: -3.721688815335244\n",
      "Final loss: [47.87822432]\n",
      "1743345369.3118432\n",
      "Initial shape of X: (1, 320)\n",
      "Initial loss: -7.859380579317247\n",
      "Final loss: [45.74278447]\n",
      "1743345373.2459056\n",
      "Initial shape of X: (1, 320)\n",
      "Initial loss: -7.518561160714975\n",
      "Final loss: [46.91887283]\n",
      "start test!\n",
      "1024/1024 [==============================] - 1s 954us/sample\n"
     ]
    },
    {
     "name": "stderr",
     "output_type": "stream",
     "text": [
      " 25%|██▌       | 1/4 [01:22<04:07, 82.61s/it]"
     ]
    },
    {
     "name": "stdout",
     "output_type": "stream",
     "text": [
      "13.809461339324438\n",
      "2000\n",
      "start test!\n",
      "2048/2048 [==============================] - 2s 937us/sample\n"
     ]
    }
   ],
   "source": [
    "conditions=[\"latin_uniform\",\"rd1_uniform\",\"rd2_uniform\",\"latin_low\",\"rd1_low\",\"rd2_low\"]\n",
    "for condition in conditions:\n",
    "    with open('initial_condition/initial_'+condition+'_4000.txt', 'r') as f:\n",
    "        initial_sampling=json.load(f)\n",
    "    sample_size = [1000, 2000, 3000, 4000]\n",
    "    promoter_model = PromoterModel()\n",
    "\n",
    "    # Loop through sample sizes and collect data\n",
    "    for i in tqdm(sample_size):\n",
    "        print(i)\n",
    "        sequences, expression_levels = promoter_model.get_best_batch(sample_for_model=i, batch_size=100, method=\"gradient\")    \n",
    "        real_expression_levels = Ura_surrogate(sequences)\n",
    "        dataframe_sequences = pd.DataFrame()\n",
    "        dataframe_sequences[\"sequence\"+str(i)] = sequences\n",
    "        dataframe_sequences[\"evaluation\"+str(i)] = expression_levels\n",
    "        dataframe_sequences[\"real\"+str(i)] = real_expression_levels\n",
    "        print(np.mean(real_expression_levels))\n",
    "        # dataframe_sequences.to_csv('promoter_de'+str(i)+'_'+condition+'.csv', index=False)\n",
    "        # dataframe_sequences.to_csv('promoter_gd'+str(i)+'_'+condition+'.csv', index=False)\n",
    "    \n"
   ]
  },
  {
   "cell_type": "markdown",
   "metadata": {},
   "source": [
    "# Plotting"
   ]
  },
  {
   "cell_type": "code",
   "execution_count": 13,
   "metadata": {
    "ExecuteTime": {
     "end_time": "2024-12-10T10:10:21.883818Z",
     "start_time": "2024-12-10T10:10:21.877668Z"
    }
   },
   "outputs": [
    {
     "name": "stdout",
     "output_type": "stream",
     "text": [
      "13.515898211053678 14.083217245617139 14.485926370078287 14.411452167967537\n",
      "13.570110533591906 14.322982733328601 14.652904416293325 14.949873306553188\n"
     ]
    }
   ],
   "source": [
    "with open('data_ym_SMW_uniform_4000.txt', 'r') as f:\n",
    "    smw_data = json.load(f)\n",
    "with open('data_ym_SMW_uniform_motif.txt', 'r') as f:\n",
    "    motif_data = json.load(f)\n",
    "    \n",
    "print(np.mean(smw_data[1]),np.mean(smw_data[2]),np.mean(smw_data[3]),np.mean(smw_data[4]))\n",
    "print(np.mean(motif_data[1]),np.mean(motif_data[2]),np.mean(motif_data[3]),np.mean(motif_data[4]))"
   ]
  },
  {
   "cell_type": "code",
   "execution_count": 35,
   "metadata": {},
   "outputs": [
    {
     "data": {
      "image/png": "[encoded data removed]",
      "text/plain": [
       "<Figure size 1800x400 with 4 Axes>"
      ]
     },
     "metadata": {},
     "output_type": "display_data"
    }
   ],
   "source": [
    "# scatter plot\n",
    "import matplotlib.pyplot as plt\n",
    "import pandas as pd\n",
    "\n",
    "# Read data from CSV files\n",
    "data1 = pd.read_csv(\"promoter_de1000_low.csv\")\n",
    "data2 = pd.read_csv(\"promoter_de2000_low.csv\")\n",
    "data3 = pd.read_csv(\"promoter_de3000_low.csv\")\n",
    "data4 = pd.read_csv(\"promoter_de4000_low.csv\")\n",
    "\n",
    "\n",
    "# Extract x and y values for each plot\n",
    "x1, y1 = data1['real1000'], data1['evaluation1000']\n",
    "x2, y2 = data2['real2000'], data2['evaluation2000']\n",
    "x3, y3 = data3['real3000'], data3['evaluation3000']\n",
    "x4, y4 = data4['real4000'], data4['evaluation4000']\n",
    "\n",
    "# Create a figure and 4 subplots\n",
    "fig, axs = plt.subplots(1, 4, figsize=(18, 4))\n",
    "\n",
    "# Plot scatter plots\n",
    "axs[0].scatter(x1, y1)\n",
    "axs[0].set_title('1000 points')\n",
    "axs[0].set_xlabel('Real Expression Level')  \n",
    "axs[0].set_ylabel('Predicted Expression Level')\n",
    "axs[0].set_xlim(0, 60)\n",
    "axs[0].set_ylim(0, 60)\n",
    "\n",
    "axs[1].scatter(x2, y2)\n",
    "axs[1].set_title('2000 points')\n",
    "axs[1].set_xlabel('Real Expression Level')\n",
    "axs[1].set_ylabel('Predicted Expression Level')\n",
    "axs[1].set_xlim(0, 60)\n",
    "axs[1].set_ylim(0, 60)\n",
    "\n",
    "axs[2].scatter(x3, y3)\n",
    "axs[2].set_title('3000 points')\n",
    "axs[2].set_xlabel('Real Expression Level')\n",
    "axs[2].set_ylabel('Predicted Expression Level')\n",
    "axs[2].set_xlim(0, 60)\n",
    "axs[2].set_ylim(0, 60)\n",
    "\n",
    "axs[3].scatter(x4, y4)\n",
    "axs[3].set_title('4000 points')\n",
    "axs[3].set_xlabel('Real Expression Level')\n",
    "axs[3].set_ylabel('Predicted Expression Level')\n",
    "axs[3].set_xlim(0, 60)\n",
    "axs[3].set_ylim(0, 60)\n",
    "\n",
    "# Show the plot\n",
    "plt.show()"
   ]
  },
  {
   "cell_type": "code",
   "execution_count": 34,
   "metadata": {},
   "outputs": [
    {
     "data": {
      "image/png": "[encoded data removed]",
      "text/plain": [
       "<Figure size 1800x400 with 4 Axes>"
      ]
     },
     "metadata": {},
     "output_type": "display_data"
    }
   ],
   "source": [
    "# scatter plot\n",
    "import matplotlib.pyplot as plt\n",
    "import pandas as pd\n",
    "\n",
    "# Read data from CSV files\n",
    "with open('data_ym_SMW_low_4000.txt', 'r') as f:\n",
    "    ym = json.load(f)\n",
    "with open('data_yp_SMW_low_4000.txt', 'r') as f:\n",
    "    yp = json.load(f)\n",
    "\n",
    "x1, y1 = ym[1], yp[0][-1000:]\n",
    "x2, y2 = ym[2], yp[1][-1000:]\n",
    "x3, y3 = ym[3], yp[2][-1000:]\n",
    "x4, y4 = ym[4], yp[3][-1000:]\n",
    "\n",
    "# Create a figure and 4 subplots\n",
    "fig, axs = plt.subplots(1, 4, figsize=(18, 4))\n",
    "\n",
    "# Plot scatter plots\n",
    "axs[0].scatter(x1, y1)\n",
    "axs[0].set_title('1000 points')\n",
    "axs[0].set_xlabel('Real Expression Level')  \n",
    "axs[0].set_ylabel('Predicted Expression Level')\n",
    "axs[0].set_xlim(0, 20)\n",
    "axs[0].set_ylim(0, 20)\n",
    "\n",
    "axs[1].scatter(x2, y2)\n",
    "axs[1].set_title('2000 points')\n",
    "axs[1].set_xlabel('Real Expression Level')\n",
    "axs[1].set_ylabel('Predicted Expression Level')\n",
    "axs[1].set_xlim(0, 20)\n",
    "axs[1].set_ylim(0, 20)\n",
    "\n",
    "axs[2].scatter(x3, y3)\n",
    "axs[2].set_title('3000 points')\n",
    "axs[2].set_xlabel('Real Expression Level')\n",
    "axs[2].set_ylabel('Predicted Expression Level')\n",
    "axs[2].set_xlim(0, 20)\n",
    "axs[2].set_ylim(0, 20)\n",
    "\n",
    "axs[3].scatter(x4, y4)\n",
    "axs[3].set_title('4000 points')\n",
    "axs[3].set_xlabel('Real Expression Level')\n",
    "axs[3].set_ylabel('Predicted Expression Level')\n",
    "axs[3].set_xlim(0, 20)\n",
    "axs[3].set_ylim(0, 20)\n",
    "\n",
    "# Show the plot\n",
    "plt.show()"
   ]
  },
  {
   "cell_type": "code",
   "execution_count": 41,
   "metadata": {},
   "outputs": [],
   "source": [
    "#sequence diversity\n",
    "def hamming_distance(str1, str2):\n",
    "    if len(str1) != len(str2):\n",
    "        raise ValueError(\"Strings must be of equal length\")\n",
    "    return sum(c1 != c2 for c1, c2 in zip(str1, str2))\n",
    "\n",
    "def pairwise_hamming_distance(strings):\n",
    "    distances = []\n",
    "    for i in range(len(strings)):\n",
    "        for j in range(i+1, len(strings)):\n",
    "            distance = hamming_distance(strings[i], strings[j])\n",
    "            distances.append(distance)\n",
    "    return distances\n",
    "\n"
   ]
  },
  {
   "cell_type": "code",
   "execution_count": 58,
   "metadata": {},
   "outputs": [],
   "source": [
    "# compute pairwise hamming distances\n",
    "# random_sampling=pd.read_csv('promoter_rd_low.csv')\n",
    "\n",
    "\n",
    "# data_X=[]\n",
    "# for i in range(4):\n",
    "#     data_X.append(random_sampling[\"sequence\"+str(i+1)+\"000\"].tolist())\n",
    "\n",
    "\n",
    "with open('data_X_SMW_low_4000.txt', 'r') as f:\n",
    "    data_X= json.load(f)\n",
    "pw=[]\n",
    "for i in range(5):\n",
    "    pw.append(pairwise_hamming_distance(data_X[i]))"
   ]
  },
  {
   "cell_type": "code",
   "execution_count": 59,
   "metadata": {},
   "outputs": [
    {
     "data": {
      "text/plain": [
       "<seaborn.axisgrid.FacetGrid at 0x7f0ebc716350>"
      ]
     },
     "execution_count": 59,
     "metadata": {},
     "output_type": "execute_result"
    },
    {
     "data": {
      "image/png": "[encoded data removed]",
      "text/plain": [
       "<Figure size 750x250 with 5 Axes>"
      ]
     },
     "metadata": {},
     "output_type": "display_data"
    }
   ],
   "source": [
    "df = pd.DataFrame(pw).transpose()\n",
    "df = df.melt(var_name='distribution', value_name='value')\n",
    "\n",
    "# Create a FacetGrid\n",
    "g = sns.FacetGrid(df, row='distribution', hue='distribution', aspect=15, height=0.5, palette='Set3')\n",
    "\n",
    "# Map a kdeplot onto each facet\n",
    "g.map(sns.kdeplot, 'value', clip_on=False, shade=True, alpha=1, lw=1.5, bw=.4)\n",
    "g.map(sns.kdeplot, 'value', clip_on=False, color='w', lw=2, bw=.2)\n",
    "g.map(plt.axhline, y=0, lw=2, clip_on=False)\n",
    "\n",
    "# Define and use a simple function to label the plot in axes coordinates\n",
    "def label(x, color, label):\n",
    "    ax = plt.gca()\n",
    "    ax.text(0, .2, label, fontweight=\"bold\", color=color, \n",
    "            ha=\"left\", va=\"center\", transform=ax.transAxes)\n",
    "\n",
    "g.map(label, 'value')\n",
    "\n",
    "# Set the subplots to overlap\n",
    "g.fig.subplots_adjust(hspace=-.0)\n",
    "\n",
    "# Remove axes details that don't play well with overlap\n",
    "g.set_titles(\"\")\n",
    "g.set(yticks=[])\n",
    "g.despine(bottom=True, left=True)"
   ]
  },
  {
   "cell_type": "code",
   "execution_count": 52,
   "metadata": {},
   "outputs": [
    {
     "data": {
      "image/png": "[encoded data removed]",
      "text/plain": [
       "<Figure size 750x200 with 4 Axes>"
      ]
     },
     "metadata": {},
     "output_type": "display_data"
    }
   ],
   "source": [
    "import pandas as pd\n",
    "import seaborn as sns\n",
    "import matplotlib.pyplot as plt\n",
    "\n",
    "# Assuming 'pw' is already defined\n",
    "df = pd.DataFrame(pw).transpose()\n",
    "df = df.melt(var_name='distribution', value_name='value')\n",
    "\n",
    "# Create a FacetGrid\n",
    "g = sns.FacetGrid(df, row='distribution', hue='distribution', aspect=15, height=0.5, palette='Set3')\n",
    "\n",
    "# Map a kdeplot onto each facet\n",
    "g.map(sns.kdeplot, 'value', clip_on=False, shade=True, alpha=1, lw=1.5, bw=.4)\n",
    "g.map(sns.kdeplot, 'value', clip_on=False, color='w', lw=2, bw=.2)\n",
    "g.map(plt.axhline, y=0, lw=2, clip_on=False)\n",
    "\n",
    "# Define and use a simple function to label the plot in axes coordinates\n",
    "def label(x, color, label, index):\n",
    "    ax = plt.gca()\n",
    "    ax.text(0, .2, str(index + 1), fontweight=\"bold\", color=color, \n",
    "            ha=\"left\", va=\"center\", transform=ax.transAxes)\n",
    "\n",
    "# Map the label function with the index\n",
    "for i, ax in enumerate(g.axes.flat):\n",
    "    ax.text(0, .2, str(i + 1), fontweight=\"bold\", color='black', \n",
    "            ha=\"left\", va=\"center\", transform=ax.transAxes)\n",
    "\n",
    "# Set the subplots to overlap\n",
    "g.fig.subplots_adjust(hspace=-.0)\n",
    "\n",
    "# Remove axes details that don't play well with overlap\n",
    "g.set_titles(\"\")\n",
    "g.set(yticks=[])\n",
    "g.despine(bottom=True, left=True)\n",
    "\n",
    "# Show the plot\n",
    "plt.show()"
   ]
  },
  {
   "cell_type": "code",
   "execution_count": null,
   "metadata": {},
   "outputs": [],
   "source": []
  }
 ],
 "metadata": {
  "anaconda-cloud": {},
  "kernelspec": {
   "display_name": "AL",
   "language": "python",
   "name": "al"
  },
  "language_info": {
   "codemirror_mode": {
    "name": "ipython",
    "version": 3
   },
   "file_extension": ".py",
   "mimetype": "text/x-python",
   "name": "python",
   "nbconvert_exporter": "python",
   "pygments_lexer": "ipython3",
   "version": "3.7.16"
  }
 },
 "nbformat": 4,
 "nbformat_minor": 1
}
