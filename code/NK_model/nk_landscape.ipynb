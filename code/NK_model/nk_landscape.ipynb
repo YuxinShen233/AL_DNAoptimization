{
 "cells": [
  {
   "cell_type": "markdown",
   "metadata": {},
   "source": [
    "https://github.com/acmater/NK_Benchmarking/blob/master/utils/nk_utils/NK_landscape.py"
   ]
  },
  {
   "cell_type": "code",
   "execution_count": 1,
   "metadata": {},
   "outputs": [],
   "source": [
    "import numpy as np\n",
    "import itertools\n",
    "import csv\n",
    "np.random.seed(42)"
   ]
  },
  {
   "cell_type": "code",
   "execution_count": 2,
   "metadata": {},
   "outputs": [],
   "source": [
    "\n",
    "\n",
    "def collapse_single(protein):\n",
    "    \"\"\"\n",
    "    Takes any iterable form of a single amino acid character sequence and returns a string representing that sequence.\n",
    "    \"\"\"\n",
    "    return \"\".join([str(i) for i in protein])\n",
    "\n",
    "def hamming(str1, str2):\n",
    "    \"\"\"Calculates the Hamming distance between 2 strings\"\"\"\n",
    "    return sum(c1 != c2 for c1, c2 in zip(str1, str2))\n",
    "\n",
    "def all_genotypes(N, AAs):\n",
    "    \"\"\"Fills the sequence space with all possible genotypes.\"\"\"\n",
    "    return np.array(list(itertools.product(AAs, repeat=N)))\n",
    "\n",
    "def neighbors(sequence, sequence_space):\n",
    "    \"\"\"Gets neighbours of a sequence in sequence space based on Hamming\n",
    "    distance.\"\"\"\n",
    "    hammings = []\n",
    "    for i in sequence_space:\n",
    "        hammings.append((i, hamming(sequence,i)))\n",
    "    return [sequence  for  sequence, distance in hammings if distance==1]\n",
    "\n",
    "def custom_neighbors(sequence, sequence_space, d):\n",
    "    \"\"\"Gets neighbours of a sequence in sequence space based on Hamming\n",
    "    distance.\"\"\"\n",
    "    hammings = []\n",
    "    for i in sequence_space:\n",
    "        hammings.append((i, hamming(sequence,i)))\n",
    "    return [sequence  for  sequence, distance in hammings if distance==d]\n",
    "\n",
    "def genEpiNet(N, K):\n",
    "    \"\"\"Generates a random epistatic network for a sequence of length\n",
    "    N with, on average, K connections\"\"\"\n",
    "    return {\n",
    "        i: sorted(np.random.choice(\n",
    "            [n for n in range(N) if n != i],\n",
    "            K,\n",
    "            replace=False\n",
    "        ).tolist() + [i])\n",
    "        for i in range(N)\n",
    "    }\n",
    "\n",
    "def fitness_i(sequence, i, epi, mem):\n",
    "    \"\"\"Assigns a (random) fitness value to the ith amino acid that\n",
    "    interacts with K other positions in a sequence, \"\"\"\n",
    "    #we use the epistasis network to work out what the relation is\n",
    "    key = tuple(zip(epi[i], sequence[epi[i]]))\n",
    "    #then, we assign a random number to this interaction\n",
    "    if key not in mem:\n",
    "        mem[key] = np.random.uniform(0, 1)\n",
    "    return mem[key]\n",
    "\n",
    "\n",
    "def fitness(sequence, epi, mem):\n",
    "    \"\"\"Obtains a fitness value for the entire sequence by summing\n",
    "    over individual amino acids\"\"\"\n",
    "    # print(sequence)\n",
    "    # print(epi)\n",
    "    # print(mem)\n",
    "    return np.mean([\n",
    "        fitness_i(sequence, i, epi, mem) # ω_i\n",
    "        for i in range(len(sequence))\n",
    "    ])\n",
    "\n",
    "def makeNK(N, K, AAs):\n",
    "    \"\"\"Make NK landscape with above parameters\"\"\"\n",
    "    f_mem = {}\n",
    "    epi_net = genEpiNet(N, K)\n",
    "    sequenceSpace = all_genotypes(N,AAs)\n",
    "    seqspace = [list(i) for i in list(sequenceSpace)]\n",
    "    land = [(x,y) for x, y in zip(sequenceSpace, [fitness(i, epi=epi_net, mem=f_mem) for i in sequenceSpace])]\n",
    "    return land, sequenceSpace, epi_net, f_mem\n",
    "\n"
   ]
  },
  {
   "cell_type": "code",
   "execution_count": 3,
   "metadata": {},
   "outputs": [],
   "source": [
    "for i in range(10):\n",
    "    if __name__ == \"__main__\":\n",
    "        land_K2, seq, _,f_mem = makeNK(10,i,\"ATCG\")\n",
    "        genotypes=[\"\".join(sublist) for sublist in seq]\n",
    "        phenotypes=[sublist[1] for sublist in land_K2]\n",
    "    # Open a new CSV file\n",
    "    with open('NK'+str(i)+'.csv', 'w', newline='') as file:\n",
    "        writer = csv.writer(file)\n",
    "        \n",
    "        # Write the header (optional)\n",
    "        writer.writerow(['Genotype', 'Phenotype'])\n",
    "        \n",
    "        # Write the data\n",
    "        for item1, item2 in zip(genotypes, phenotypes):\n",
    "            writer.writerow([item1, item2])"
   ]
  },
  {
   "cell_type": "code",
   "execution_count": null,
   "metadata": {},
   "outputs": [],
   "source": []
  },
  {
   "cell_type": "code",
   "execution_count": null,
   "metadata": {},
   "outputs": [],
   "source": []
  }
 ],
 "metadata": {
  "kernelspec": {
   "display_name": "Python 3 (ipykernel)",
   "language": "python",
   "name": "python3"
  },
  "language_info": {
   "codemirror_mode": {
    "name": "ipython",
    "version": 3
   },
   "file_extension": ".py",
   "mimetype": "text/x-python",
   "name": "python",
   "nbconvert_exporter": "python",
   "pygments_lexer": "ipython3",
   "version": "3.10.8"
  }
 },
 "nbformat": 4,
 "nbformat_minor": 2
}
