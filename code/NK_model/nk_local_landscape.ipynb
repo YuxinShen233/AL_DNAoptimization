{
 "cells": [
  {
   "cell_type": "markdown",
   "metadata": {},
   "source": [
    "https://github.com/acmater/NK_Benchmarking/blob/master/utils/nk_utils/NK_landscape.py"
   ]
  },
  {
   "cell_type": "code",
   "execution_count": 1,
   "metadata": {
    "ExecuteTime": {
     "end_time": "2025-08-21T07:49:36.085994Z",
     "start_time": "2025-08-21T07:49:35.955365Z"
    }
   },
   "outputs": [],
   "source": [
    "import numpy as np\n",
    "import itertools\n",
    "import csv\n",
    "np.random.seed(42)"
   ]
  },
  {
   "cell_type": "code",
   "execution_count": 2,
   "metadata": {
    "ExecuteTime": {
     "end_time": "2025-08-20T15:30:09.886845Z",
     "start_time": "2025-08-20T15:30:09.594108Z"
    }
   },
   "outputs": [],
   "source": [
    "import numpy as np\n",
    "import itertools\n",
    "\n",
    "def collapse_single(protein):\n",
    "    \"\"\"Takes any iterable form of a single amino acid character sequence and returns a string representing that sequence.\"\"\"\n",
    "    return \"\".join([str(i) for i in protein])\n",
    "\n",
    "def hamming(str1, str2):\n",
    "    \"\"\"Calculates the Hamming distance between 2 strings\"\"\"\n",
    "    return sum(c1 != c2 for c1, c2 in zip(str1, str2))\n",
    "\n",
    "def all_genotypes(N, AAs):\n",
    "    \"\"\"Fills the sequence space with all possible genotypes.\"\"\"\n",
    "    return np.array(list(itertools.product(AAs, repeat=N)))\n",
    "\n",
    "def neighbors(sequence, sequence_space):\n",
    "    \"\"\"Gets neighbours of a sequence in sequence space based on Hamming distance.\"\"\"\n",
    "    hammings = []\n",
    "    for i in sequence_space:\n",
    "        hammings.append((i, hamming(sequence,i)))\n",
    "    return [sequence for sequence, distance in hammings if distance==1]\n",
    "\n",
    "def custom_neighbors(sequence, sequence_space, d):\n",
    "    \"\"\"Gets neighbours of a sequence in sequence space based on Hamming distance d.\"\"\"\n",
    "    hammings = []\n",
    "    for i in sequence_space:\n",
    "        hammings.append((i, hamming(sequence,i)))\n",
    "    return [sequence for sequence, distance in hammings if distance==d]\n",
    "\n",
    "def genEpiNet(N, K):\n",
    "    \"\"\"Generates a random epistatic network for a sequence of length\n",
    "    N with, on average, K connections\"\"\"\n",
    "    return {\n",
    "        i: sorted(np.random.choice(\n",
    "            [n for n in range(N) if n != i],\n",
    "            K,\n",
    "            replace=False\n",
    "        ).tolist() + [i])\n",
    "        for i in range(N)\n",
    "    }\n",
    "\n",
    "def genEpiNet_local(N, K=1):\n",
    "    \"\"\"\n",
    "    Generates a local epistatic network for a sequence of length N.\n",
    "    Each position interacts only with itself and its K next neighbors (no wrap-around).\n",
    "    For K=1: [i, i+1]\n",
    "    For K=2: [i, i+1, i+2]\n",
    "    * For last positions, include as many neighbors as possible.\n",
    "    \"\"\"\n",
    "    epi_net = {}\n",
    "    for i in range(N):\n",
    "        epi_net[i] = list(range(i, min(i + K + 1, N)))\n",
    "    return epi_net\n",
    "\n",
    "\n",
    "def fitness_i(sequence, i, epi, mem):\n",
    "    \"\"\"Assigns a (random) fitness value to the ith amino acid that interacts with its neighbors.\"\"\"\n",
    "    key = tuple(zip(epi[i], sequence[epi[i]]))\n",
    "    if key not in mem:\n",
    "        mem[key] = np.random.uniform(0, 1)\n",
    "    return mem[key]\n",
    "\n",
    "def fitness(sequence, epi, mem):\n",
    "    \"\"\"Obtains a fitness value for the entire sequence by averaging over individual amino acids.\"\"\"\n",
    "    return np.mean([\n",
    "        fitness_i(sequence, i, epi, mem)\n",
    "        for i in range(len(sequence))\n",
    "    ])\n",
    "\n",
    "def makeNK_local(N, K, AAs):\n",
    "    \"\"\"Make NK landscape with local (neighbor-only) interactions.\"\"\"\n",
    "    f_mem = {}\n",
    "    epi_net = genEpiNet_local(N, K)\n",
    "    sequenceSpace = all_genotypes(N, AAs)\n",
    "    land = [(x, fitness(x, epi=epi_net, mem=f_mem)) for x in sequenceSpace]\n",
    "    return land, sequenceSpace, epi_net, f_mem"
   ]
  },
  {
   "cell_type": "code",
   "execution_count": 3,
   "metadata": {
    "ExecuteTime": {
     "end_time": "2025-08-20T15:30:14.585296Z",
     "start_time": "2025-08-20T15:30:14.580209Z"
    }
   },
   "outputs": [
    {
     "data": {
      "text/plain": [
       "{0: [0, 2, 4], 1: [1, 2, 4], 2: [0, 2, 4], 3: [0, 1, 3], 4: [1, 2, 4]}"
      ]
     },
     "execution_count": 3,
     "metadata": {},
     "output_type": "execute_result"
    }
   ],
   "source": [
    "genEpiNet(5, K=2)"
   ]
  },
  {
   "cell_type": "code",
   "execution_count": 4,
   "metadata": {
    "ExecuteTime": {
     "end_time": "2025-08-20T15:31:20.218501Z",
     "start_time": "2025-08-20T15:31:20.215557Z"
    }
   },
   "outputs": [
    {
     "data": {
      "text/plain": [
       "{0: [0, 1, 2], 1: [1, 2, 3], 2: [2, 3, 4], 3: [3, 4], 4: [4]}"
      ]
     },
     "execution_count": 4,
     "metadata": {},
     "output_type": "execute_result"
    }
   ],
   "source": [
    "genEpiNet_local(5, K=2)"
   ]
  },
  {
   "cell_type": "code",
   "execution_count": 45,
   "metadata": {},
   "outputs": [],
   "source": [
    "for i in range(1,4):\n",
    "    if __name__ == \"__main__\":\n",
    "        land_K2, seq, _,f_mem = makeNK_local(10,i,\"ATCG\")\n",
    "        genotypes=[\"\".join(sublist) for sublist in seq]\n",
    "        phenotypes=[sublist[1] for sublist in land_K2]\n",
    "    # Open a new CSV file\n",
    "    with open('NK_local'+str(i)+'.csv', 'w', newline='') as file:\n",
    "        writer = csv.writer(file)\n",
    "        \n",
    "        # Write the header (optional)\n",
    "        writer.writerow(['Genotype', 'Phenotype'])\n",
    "        \n",
    "        # Write the data\n",
    "        for item1, item2 in zip(genotypes, phenotypes):\n",
    "            writer.writerow([item1, item2])"
   ]
  },
  {
   "cell_type": "code",
   "execution_count": null,
   "metadata": {},
   "outputs": [],
   "source": []
  },
  {
   "cell_type": "code",
   "execution_count": null,
   "metadata": {},
   "outputs": [],
   "source": []
  }
 ],
 "metadata": {
  "kernelspec": {
   "display_name": "AL",
   "language": "python",
   "name": "al"
  },
  "language_info": {
   "codemirror_mode": {
    "name": "ipython",
    "version": 3
   },
   "file_extension": ".py",
   "mimetype": "text/x-python",
   "name": "python",
   "nbconvert_exporter": "python",
   "pygments_lexer": "ipython3",
   "version": "3.7.16"
  }
 },
 "nbformat": 4,
 "nbformat_minor": 2
}
