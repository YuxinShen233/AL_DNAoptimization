{
 "cells": [
  {
   "cell_type": "code",
   "execution_count": 1,
   "metadata": {
    "ExecuteTime": {
     "end_time": "2025-02-20T19:19:42.360797Z",
     "start_time": "2025-02-20T19:19:42.356860Z"
    }
   },
   "outputs": [
    {
     "name": "stderr",
     "output_type": "stream",
     "text": [
      "/home/yshen/miniconda3/envs/AL/lib/python3.7/site-packages/sklearn/externals/joblib/externals/cloudpickle/cloudpickle.py:47: DeprecationWarning: the imp module is deprecated in favour of importlib; see the module's documentation for alternative uses\n",
      "  import imp\n",
      "/home/yshen/miniconda3/envs/AL/lib/python3.7/site-packages/sklearn/utils/validation.py:37: DeprecationWarning: distutils Version classes are deprecated. Use packaging.version instead.\n",
      "  LARGE_SPARSE_SUPPORTED = LooseVersion(scipy_version) >= '0.14.0'\n"
     ]
    }
   ],
   "source": [
    "import warnings\n",
    "\n",
    "from sklearn.exceptions import ConvergenceWarning\n",
    "warnings.filterwarnings(action='ignore', category=ConvergenceWarning)\n",
    "warnings.filterwarnings(\"ignore\", category=DeprecationWarning)\n",
    "\n",
    "import numpy as np\n",
    "import pandas as pd\n",
    "import itertools\n",
    "import csv\n",
    "from sklearn.model_selection import train_test_split\n",
    "from sklearn.neural_network import MLPRegressor\n",
    "from sklearn.preprocessing import OneHotEncoder\n",
    "from sklearn.metrics import r2_score\n",
    "from tqdm import tqdm"
   ]
  },
  {
   "cell_type": "code",
   "execution_count": 2,
   "metadata": {
    "ExecuteTime": {
     "end_time": "2025-02-20T19:19:42.697703Z",
     "start_time": "2025-02-20T19:19:42.694759Z"
    }
   },
   "outputs": [],
   "source": [
    "from smt.sampling_methods import LHS\n",
    "def latin_sampling(num):\n",
    "    xlimits = np.array([[0,1.0]]*1)\n",
    "    sampling = LHS(xlimits=xlimits,)\n",
    "    x = sampling(num)\n",
    "    return x"
   ]
  },
  {
   "cell_type": "code",
   "execution_count": 3,
   "metadata": {
    "ExecuteTime": {
     "end_time": "2025-02-20T19:19:43.016389Z",
     "start_time": "2025-02-20T19:19:43.011924Z"
    }
   },
   "outputs": [],
   "source": [
    "def seq_to_oh(sequence):\n",
    "    onehot=[]\n",
    "    diction =[['A'], ['C'], ['G'], ['T']]\n",
    "    enc = OneHotEncoder(handle_unknown='ignore')\n",
    "    enc.fit(diction)\n",
    "    for i in range(len(sequence)): \n",
    "        sep_seq=list(sequence[i])\n",
    "        sep_seq=np.array(sep_seq)\n",
    "        sep_seq=sep_seq.reshape(len(sequence[i]),1)\n",
    "        A=enc.transform(sep_seq).toarray()\n",
    "        A=A.reshape(len(sequence[i])*4)\n",
    "        onehot.append(A)\n",
    "    onehot=np.array(onehot)\n",
    "    onehot = onehot.astype('float32')\n",
    "    return onehot"
   ]
  },
  {
   "cell_type": "code",
   "execution_count": 11,
   "metadata": {
    "ExecuteTime": {
     "end_time": "2025-02-20T19:19:43.352422Z",
     "start_time": "2025-02-20T19:19:43.347974Z"
    }
   },
   "outputs": [],
   "source": [
    "from sklearn.preprocessing import OneHotEncoder\n",
    "def Bionehot(sequence): #sequence matrix should be 2d array (num_seq, 1)\n",
    "    bionehot=[]\n",
    "    diction =[['A'], ['T'], ['C'], ['G']]\n",
    "    enc = OneHotEncoder(handle_unknown='ignore')\n",
    "    enc.fit(diction)\n",
    "    for i in range(sequence.shape[0]): \n",
    "        sep_seq=list(sequence[i][0])\n",
    "        sep_seq=np.array(sep_seq)\n",
    "        sep_seq=sep_seq.reshape(10,1)\n",
    "        A=enc.transform(sep_seq).toarray()\n",
    "        A=A.reshape(10*4)\n",
    "        bionehot.append(A)\n",
    "    bionehot=np.array(bionehot)\n",
    "    return bionehot"
   ]
  },
  {
   "cell_type": "code",
   "execution_count": null,
   "metadata": {
    "ExecuteTime": {
     "start_time": "2025-02-20T19:19:43.879Z"
    }
   },
   "outputs": [
    {
     "name": "stderr",
     "output_type": "stream",
     "text": [
      "100%|█████████████████████████████████████████████| 5/5 [00:06<00:00,  1.29s/it]\n",
      "  0%|                                                     | 0/5 [00:00<?, ?it/s]"
     ]
    }
   ],
   "source": [
    "R2_2000=[]\n",
    "for i in range(4):\n",
    "    r2_replicates=[]\n",
    "    for j in tqdm(range(5)):\n",
    "        df = pd.read_csv('NK'+str(i)+'.csv')\n",
    "        def NK_surrogate(input):\n",
    "            genotype_to_phenotype = dict(zip(df['Genotype'], df['Phenotype']))\n",
    "            ordered_phenotypes = [genotype_to_phenotype.get(genotype) for genotype in input]\n",
    "            return np.array(ordered_phenotypes)\n",
    "        subset_df = df.sample(n=4000)\n",
    "        data_train, data_test = train_test_split(subset_df, test_size=0.5, random_state=42)\n",
    "        ## Load initial sampling data for model training - get a fixed model on LHS data\n",
    "        with open('initial_LHS_2000.txt', 'r') as f:\n",
    "            initial_sampling=json.load(f)\n",
    "            data_train=initial_sampling[:2000]\n",
    "        X_train = seq_to_oh(data_train) \n",
    "        y_train = NK_surrogate(data_train)\n",
    "        X_test = Bionehot(data_test.iloc[:, 0].values.reshape(-1, 1))\n",
    "        y_test = data_test.iloc[:, 1].values\n",
    "\n",
    "\n",
    "        mlp = MLPRegressor(random_state=1, max_iter=500)  \n",
    "        mlp.fit(X_train, y_train)\n",
    "\n",
    "        y_pred = mlp.predict(X_test)\n",
    "        r2 = r2_score(y_test, y_pred)\n",
    "        r2_replicates.append(r2)\n",
    "    R2_2000.append(r2_replicates)"
   ]
  },
  {
   "cell_type": "code",
   "execution_count": 19,
   "metadata": {
    "ExecuteTime": {
     "end_time": "2025-02-21T15:37:50.865147Z",
     "start_time": "2025-02-21T15:37:50.861915Z"
    }
   },
   "outputs": [
    {
     "data": {
      "text/plain": [
       "[[0.3679818920754241,\n",
       "  0.3882193648200657,\n",
       "  0.3883229701735802,\n",
       "  0.400918104782517,\n",
       "  0.38822197841362505],\n",
       " [0.2943082599355442,\n",
       "  0.2949597059544542,\n",
       "  0.25472111488113525,\n",
       "  0.2849108393009965,\n",
       "  0.292356470025665],\n",
       " [0.1256542906747261,\n",
       "  0.16189864860525038,\n",
       "  0.07643095680514944,\n",
       "  0.1346803622205378,\n",
       "  0.13773517886752307],\n",
       " [-0.24398903544326878,\n",
       "  -0.31595886935001793,\n",
       "  -0.30793276802005054,\n",
       "  -0.2988083774732242,\n",
       "  -0.29712218519827416]]"
      ]
     },
     "execution_count": 19,
     "metadata": {},
     "output_type": "execute_result"
    }
   ],
   "source": [
    "R2_2000"
   ]
  },
  {
   "cell_type": "code",
   "execution_count": null,
   "metadata": {
    "ExecuteTime": {
     "start_time": "2025-02-20T19:19:44.975Z"
    }
   },
   "outputs": [],
   "source": [
    "np.save('R2_2000_LHS.npy', R2_2000)"
   ]
  },
  {
   "cell_type": "code",
   "execution_count": null,
   "metadata": {
    "ExecuteTime": {
     "start_time": "2025-02-20T19:19:45.560Z"
    }
   },
   "outputs": [],
   "source": [
    "import pandas as pd\n",
    "import numpy as np\n",
    "import json\n",
    "from tqdm import tqdm\n",
    "from sklearn.model_selection import train_test_split, GridSearchCV\n",
    "from sklearn.neural_network import MLPRegressor\n",
    "from sklearn.metrics import r2_score\n",
    "\n",
    "R2_2000_ho = []\n",
    "for i in range(4):\n",
    "    r2_replicates = []\n",
    "    for j in tqdm(range(5)):\n",
    "        df = pd.read_csv('NK' + str(i) + '.csv')\n",
    "\n",
    "        def NK_surrogate(input):\n",
    "            genotype_to_phenotype = dict(zip(df['Genotype'], df['Phenotype']))\n",
    "            ordered_phenotypes = [genotype_to_phenotype.get(genotype) for genotype in input]\n",
    "            return np.array(ordered_phenotypes)\n",
    "\n",
    "        subset_df = df.sample(n=4000)\n",
    "        data_train, data_test = train_test_split(subset_df, test_size=0.5, random_state=42)\n",
    "        with open('initial_LHS_2000.txt', 'r') as f:\n",
    "            initial_sampling = json.load(f)\n",
    "            data_train = initial_sampling[:2000]\n",
    "        X_train = seq_to_oh(data_train)  # Reshape for a single feature\n",
    "        y_train = NK_surrogate(data_train)\n",
    "        X_test = Bionehot(data_test.iloc[:, 0].values.reshape(-1, 1))\n",
    "        y_test = data_test.iloc[:, 1].values\n",
    "\n",
    "        # Define the parameter grid\n",
    "        param_grid = {\n",
    "            'hidden_layer_sizes': [\n",
    "                (10,),\n",
    "                (40, 10),\n",
    "                (100, 100, 20),\n",
    "                (10, 100, 100, 20)\n",
    "            ]\n",
    "        }\n",
    "        mlp = MLPRegressor(random_state=1, max_iter=500)\n",
    "        grid_search = GridSearchCV(mlp, param_grid, n_jobs=-1, cv=10, verbose=2)\n",
    "        grid_search.fit(X_train, y_train)\n",
    "\n",
    "        # Step 3: Evaluate the Best Model\n",
    "        best_mlp = grid_search.best_estimator_\n",
    "        y_pred = best_mlp.predict(X_test)\n",
    "        r2 = r2_score(y_test, y_pred)\n",
    "        r2_replicates.append(r2)\n",
    "    R2_2000_ho.append(r2_replicates)"
   ]
  },
  {
   "cell_type": "code",
   "execution_count": 18,
   "metadata": {
    "ExecuteTime": {
     "end_time": "2025-02-21T15:37:46.518079Z",
     "start_time": "2025-02-21T15:37:46.432312Z"
    }
   },
   "outputs": [
    {
     "data": {
      "text/plain": [
       "[[0.8570973318527089,\n",
       "  0.8599371112226568,\n",
       "  0.8592932304071033,\n",
       "  0.8574269135101221,\n",
       "  0.858059481356677],\n",
       " [0.5211547441987446,\n",
       "  0.5268921984561503,\n",
       "  0.51001094889558,\n",
       "  0.5393195544249747,\n",
       "  0.5277696032582093],\n",
       " [0.33939527295354877,\n",
       "  0.32652925295965185,\n",
       "  0.3318099335275434,\n",
       "  0.30849051080282686,\n",
       "  0.32762616335772177],\n",
       " [-0.08912647919932848,\n",
       "  -0.07750064253943378,\n",
       "  -0.09258038735029861,\n",
       "  -0.1213773392552584,\n",
       "  -0.0819005745771122]]"
      ]
     },
     "execution_count": 18,
     "metadata": {},
     "output_type": "execute_result"
    }
   ],
   "source": [
    "R2_2000_ho"
   ]
  },
  {
   "cell_type": "code",
   "execution_count": null,
   "metadata": {
    "ExecuteTime": {
     "start_time": "2025-02-20T19:19:47.012Z"
    }
   },
   "outputs": [],
   "source": [
    "np.save('R2_2000_ho.npy', R2_2000_ho)"
   ]
  },
  {
   "cell_type": "code",
   "execution_count": 3,
   "metadata": {},
   "outputs": [],
   "source": [
    "R2_2000 = np.load('R2_2000_LHS.npy')\n",
    "R2_2000_ho = np.load('R2_2000_ho.npy')"
   ]
  },
  {
   "cell_type": "code",
   "execution_count": 7,
   "metadata": {
    "ExecuteTime": {
     "end_time": "2025-01-07T13:40:57.213921Z",
     "start_time": "2025-01-07T13:40:56.944162Z"
    }
   },
   "outputs": [
    {
     "data": {
      "image/png": "[encoded data removed]",
      "text/plain": [
       "<Figure size 640x480 with 1 Axes>"
      ]
     },
     "metadata": {},
     "output_type": "display_data"
    }
   ],
   "source": [
    "import matplotlib.pyplot as plt\n",
    "means = np.mean(R2_2000, axis=1)\n",
    "\n",
    "# Step 2: Calculate the Standard Error (SE = std / sqrt(N))\n",
    "standard_errors = np.std(R2_2000, axis=1) \n",
    "\n",
    "# Step 3: Plot the Bar Chart\n",
    "x = np.arange(len(means))  # the label locations\n",
    "plt.bar(x, means, yerr=standard_errors, capsize=5)\n",
    "plt.xlabel('K value')\n",
    "plt.ylabel('R2')\n",
    "\n",
    "plt.title('MLP performance on NK Landscape with 2,000 LHS samples')\n",
    "plt.xticks(x, [f'K={i}' for i in range(len(means))])\n",
    "plt.tight_layout()\n",
    "plt.savefig('MLP_2000.pdf')\n",
    "plt.show()"
   ]
  },
  {
   "cell_type": "code",
   "execution_count": 8,
   "metadata": {},
   "outputs": [
    {
     "data": {
      "image/png": "[encoded data removed]",
      "text/plain": [
       "<Figure size 640x480 with 1 Axes>"
      ]
     },
     "metadata": {},
     "output_type": "display_data"
    }
   ],
   "source": [
    "import matplotlib.pyplot as plt\n",
    "means = np.mean(R2_2000_ho, axis=1)\n",
    "\n",
    "# Step 2: Calculate the Standard Error (SE = std / sqrt(N))\n",
    "standard_errors = np.std(R2_2000_ho, axis=1) \n",
    "\n",
    "# Step 3: Plot the Bar Chart\n",
    "x = np.arange(len(means))  # the label locations\n",
    "plt.bar(x, means, yerr=standard_errors, capsize=5)\n",
    "plt.xlabel('K value')\n",
    "plt.ylabel('R2')\n",
    "\n",
    "plt.title('MLP performance on NK Landscape with 2,000 LHS samples - hyperopt')\n",
    "plt.xticks(x, [f'K={i}' for i in range(len(means))])\n",
    "plt.tight_layout()\n",
    "plt.savefig('MLP_2000_ho.pdf')\n",
    "plt.show()"
   ]
  },
  {
   "cell_type": "code",
   "execution_count": 8,
   "metadata": {},
   "outputs": [
    {
     "data": {
      "image/png": "[encoded data removed]",
      "text/plain": [
       "<Figure size 640x480 with 1 Axes>"
      ]
     },
     "metadata": {},
     "output_type": "display_data"
    }
   ],
   "source": [
    "import matplotlib.pyplot as plt\n",
    "import numpy as np\n",
    "\n",
    "# Assuming R2_2000 and R2_3000 are your two data sources\n",
    "means_2000 = np.mean(R2_2000, axis=1)\n",
    "standard_errors_2000 = np.std(R2_2000, axis=1) / np.sqrt(R2_2000.shape[1])\n",
    "\n",
    "means_3000 = np.mean(R2_2000_ho, axis=1)\n",
    "standard_errors_3000 = np.std(R2_2000_ho, axis=1) / np.sqrt(R2_2000_ho.shape[1])\n",
    "\n",
    "x = np.arange(len(means_2000))  # the label locations\n",
    "\n",
    "width = 0.35  # the width of the bars\n",
    "\n",
    "fig, ax = plt.subplots()\n",
    "rects1 = ax.bar(x - width/2, means_2000, width, yerr=standard_errors_2000, capsize=5, label='without hyperopt')\n",
    "rects2 = ax.bar(x + width/2, means_3000, width, yerr=standard_errors_3000, capsize=5, label='with hyperopt')\n",
    "\n",
    "ax.set_xlabel('K value')\n",
    "ax.set_ylabel('R2')\n",
    "ax.set_title('MLP performance on NK Landscape wihthout and with hyperopt')\n",
    "ax.set_xticks(x)\n",
    "ax.set_xticklabels([f'K={i}' for i in range(len(means_2000))])\n",
    "ax.legend()\n",
    "\n",
    "fig.tight_layout()\n",
    "plt.savefig('MLP_ho.pdf')\n",
    "plt.show()"
   ]
  },
  {
   "cell_type": "code",
   "execution_count": null,
   "metadata": {},
   "outputs": [],
   "source": []
  }
 ],
 "metadata": {
  "kernelspec": {
   "display_name": "AL",
   "language": "python",
   "name": "al"
  },
  "language_info": {
   "codemirror_mode": {
    "name": "ipython",
    "version": 3
   },
   "file_extension": ".py",
   "mimetype": "text/x-python",
   "name": "python",
   "nbconvert_exporter": "python",
   "pygments_lexer": "ipython3",
   "version": "3.7.16"
  }
 },
 "nbformat": 4,
 "nbformat_minor": 2
}
